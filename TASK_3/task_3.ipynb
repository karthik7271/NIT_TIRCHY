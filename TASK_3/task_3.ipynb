{
 "cells": [
  {
   "cell_type": "markdown",
   "id": "0b048487",
   "metadata": {},
   "source": [
    "# TASK 3 , MAKE THE PIPELINE INPUT ANY lANGUAGE AND THEN TRANSLATE , ALSO TRY IMPLEMENTING FEW SHOT ALGORITHMS"
   ]
  },
  {
   "cell_type": "code",
   "execution_count": 1,
   "id": "962490ad",
   "metadata": {},
   "outputs": [
    {
     "name": "stdout",
     "output_type": "stream",
     "text": [
      "Requirement already satisfied: sounddevice in /opt/anaconda3/envs/glueviz_env/lib/python3.9/site-packages (0.5.1)\n",
      "Requirement already satisfied: scipy in /opt/anaconda3/envs/glueviz_env/lib/python3.9/site-packages (1.13.1)\n",
      "Requirement already satisfied: numpy in /opt/anaconda3/envs/glueviz_env/lib/python3.9/site-packages (1.26.4)\n",
      "Requirement already satisfied: CFFI>=1.0 in /opt/anaconda3/envs/glueviz_env/lib/python3.9/site-packages (from sounddevice) (1.17.1)\n",
      "Requirement already satisfied: pycparser in /opt/anaconda3/envs/glueviz_env/lib/python3.9/site-packages (from CFFI>=1.0->sounddevice) (2.22)\n",
      "Note: you may need to restart the kernel to use updated packages.\n",
      "Requirement already satisfied: requests in /opt/anaconda3/envs/glueviz_env/lib/python3.9/site-packages (2.32.3)\n",
      "Requirement already satisfied: pandas in /opt/anaconda3/envs/glueviz_env/lib/python3.9/site-packages (2.2.3)\n",
      "Requirement already satisfied: pydub in /opt/anaconda3/envs/glueviz_env/lib/python3.9/site-packages (0.25.1)\n",
      "Requirement already satisfied: pyaudio in /opt/anaconda3/envs/glueviz_env/lib/python3.9/site-packages (0.2.14)\n",
      "Requirement already satisfied: charset-normalizer<4,>=2 in /opt/anaconda3/envs/glueviz_env/lib/python3.9/site-packages (from requests) (3.4.2)\n",
      "Requirement already satisfied: idna<4,>=2.5 in /opt/anaconda3/envs/glueviz_env/lib/python3.9/site-packages (from requests) (3.10)\n",
      "Requirement already satisfied: urllib3<3,>=1.21.1 in /opt/anaconda3/envs/glueviz_env/lib/python3.9/site-packages (from requests) (2.4.0)\n",
      "Requirement already satisfied: certifi>=2017.4.17 in /opt/anaconda3/envs/glueviz_env/lib/python3.9/site-packages (from requests) (2025.4.26)\n",
      "Requirement already satisfied: numpy>=1.22.4 in /opt/anaconda3/envs/glueviz_env/lib/python3.9/site-packages (from pandas) (1.26.4)\n",
      "Requirement already satisfied: python-dateutil>=2.8.2 in /opt/anaconda3/envs/glueviz_env/lib/python3.9/site-packages (from pandas) (2.9.0.post0)\n",
      "Requirement already satisfied: pytz>=2020.1 in /opt/anaconda3/envs/glueviz_env/lib/python3.9/site-packages (from pandas) (2024.1)\n",
      "Requirement already satisfied: tzdata>=2022.7 in /opt/anaconda3/envs/glueviz_env/lib/python3.9/site-packages (from pandas) (2023.3)\n",
      "Requirement already satisfied: six>=1.5 in /opt/anaconda3/envs/glueviz_env/lib/python3.9/site-packages (from python-dateutil>=2.8.2->pandas) (1.16.0)\n",
      "Note: you may need to restart the kernel to use updated packages.\n",
      "Requirement already satisfied: simpleaudio in /opt/anaconda3/envs/glueviz_env/lib/python3.9/site-packages (1.0.4)\n",
      "Note: you may need to restart the kernel to use updated packages.\n",
      "Requirement already satisfied: dotenv in /opt/anaconda3/envs/glueviz_env/lib/python3.9/site-packages (0.9.9)\n",
      "Requirement already satisfied: soundfile in /opt/anaconda3/envs/glueviz_env/lib/python3.9/site-packages (0.13.1)\n",
      "Requirement already satisfied: python-dotenv in /opt/anaconda3/envs/glueviz_env/lib/python3.9/site-packages (from dotenv) (1.1.0)\n",
      "Requirement already satisfied: cffi>=1.0 in /opt/anaconda3/envs/glueviz_env/lib/python3.9/site-packages (from soundfile) (1.17.1)\n",
      "Requirement already satisfied: numpy in /opt/anaconda3/envs/glueviz_env/lib/python3.9/site-packages (from soundfile) (1.26.4)\n",
      "Requirement already satisfied: pycparser in /opt/anaconda3/envs/glueviz_env/lib/python3.9/site-packages (from cffi>=1.0->soundfile) (2.22)\n",
      "Note: you may need to restart the kernel to use updated packages.\n",
      "Requirement already satisfied: playsound in /opt/anaconda3/envs/glueviz_env/lib/python3.9/site-packages (1.3.0)\n",
      "Note: you may need to restart the kernel to use updated packages.\n",
      "Requirement already satisfied: sarvamai in /opt/anaconda3/envs/glueviz_env/lib/python3.9/site-packages (0.1.0)\n",
      "Requirement already satisfied: httpx>=0.21.2 in /opt/anaconda3/envs/glueviz_env/lib/python3.9/site-packages (from sarvamai) (0.28.1)\n",
      "Requirement already satisfied: pydantic>=1.9.2 in /opt/anaconda3/envs/glueviz_env/lib/python3.9/site-packages (from sarvamai) (2.11.4)\n",
      "Requirement already satisfied: pydantic-core<3.0.0,>=2.18.2 in /opt/anaconda3/envs/glueviz_env/lib/python3.9/site-packages (from sarvamai) (2.33.2)\n",
      "Requirement already satisfied: typing_extensions>=4.0.0 in /opt/anaconda3/envs/glueviz_env/lib/python3.9/site-packages (from sarvamai) (4.12.2)\n",
      "Requirement already satisfied: anyio in /opt/anaconda3/envs/glueviz_env/lib/python3.9/site-packages (from httpx>=0.21.2->sarvamai) (4.9.0)\n",
      "Requirement already satisfied: certifi in /opt/anaconda3/envs/glueviz_env/lib/python3.9/site-packages (from httpx>=0.21.2->sarvamai) (2025.4.26)\n",
      "Requirement already satisfied: httpcore==1.* in /opt/anaconda3/envs/glueviz_env/lib/python3.9/site-packages (from httpx>=0.21.2->sarvamai) (1.0.9)\n",
      "Requirement already satisfied: idna in /opt/anaconda3/envs/glueviz_env/lib/python3.9/site-packages (from httpx>=0.21.2->sarvamai) (3.10)\n",
      "Requirement already satisfied: h11>=0.16 in /opt/anaconda3/envs/glueviz_env/lib/python3.9/site-packages (from httpcore==1.*->httpx>=0.21.2->sarvamai) (0.16.0)\n",
      "Requirement already satisfied: annotated-types>=0.6.0 in /opt/anaconda3/envs/glueviz_env/lib/python3.9/site-packages (from pydantic>=1.9.2->sarvamai) (0.7.0)\n",
      "Requirement already satisfied: typing-inspection>=0.4.0 in /opt/anaconda3/envs/glueviz_env/lib/python3.9/site-packages (from pydantic>=1.9.2->sarvamai) (0.4.0)\n",
      "Requirement already satisfied: exceptiongroup>=1.0.2 in /opt/anaconda3/envs/glueviz_env/lib/python3.9/site-packages (from anyio->httpx>=0.21.2->sarvamai) (1.2.0)\n",
      "Requirement already satisfied: sniffio>=1.1 in /opt/anaconda3/envs/glueviz_env/lib/python3.9/site-packages (from anyio->httpx>=0.21.2->sarvamai) (1.3.1)\n",
      "Note: you may need to restart the kernel to use updated packages.\n"
     ]
    }
   ],
   "source": [
    "%pip install sounddevice scipy numpy\n",
    "%pip install requests pandas pydub pyaudio \n",
    "%pip install simpleaudio\n",
    "%pip install dotenv soundfile\n",
    "%pip install playsound\n",
    "%pip install sarvamai"
   ]
  },
  {
   "cell_type": "code",
   "execution_count": 2,
   "id": "02db7353",
   "metadata": {},
   "outputs": [],
   "source": [
    "import wave\n",
    "import base64\n",
    "import requests\n",
    "import sounddevice as sd\n",
    "import numpy as np\n",
    "import time\n",
    "import os\n",
    "import io\n",
    "from pydub import AudioSegment"
   ]
  },
  {
   "cell_type": "code",
   "execution_count": 3,
   "id": "66f6032d",
   "metadata": {},
   "outputs": [],
   "source": [
    "from dotenv import load_dotenv\n",
    "import os\n",
    "load_dotenv()\n",
    "api_key = os.getenv(\"API_KEY\")"
   ]
  },
  {
   "cell_type": "markdown",
   "id": "3feb7245",
   "metadata": {},
   "source": [
    "# INPUT OF THE AUDIO"
   ]
  },
  {
   "cell_type": "code",
   "execution_count": 4,
   "id": "d308ea8f",
   "metadata": {},
   "outputs": [],
   "source": [
    "import sounddevice as sd\n",
    "import soundfile as sf\n",
    "import threading\n",
    "\n",
    "def record_audio(output_file='input_audio.wav', fs=44100):\n",
    "    \"\"\"Continuously record audio until user presses Enter, then save to a WAV file.\"\"\"\n",
    "    print(\"Recording... Press Enter to stop.\")\n",
    "\n",
    "    recording = []\n",
    "    stop_recording = threading.Event()\n",
    "\n",
    "    def wait_for_input():\n",
    "        input()\n",
    "        stop_recording.set()\n",
    "\n",
    "    threading.Thread(target=wait_for_input).start()\n",
    "\n",
    "    with sd.InputStream(samplerate=fs, channels=1, dtype='int16') as stream:\n",
    "        while not stop_recording.is_set():\n",
    "            audio_chunk, _ = stream.read(1024)\n",
    "            recording.append(audio_chunk)\n",
    "\n",
    "    print(\"Recording stopped.\")\n",
    "\n",
    "    audio_data = np.concatenate(recording, axis=0)\n",
    "    with wave.open(output_file, 'wb') as wf:\n",
    "        wf.setnchannels(1)\n",
    "        wf.setsampwidth(2)\n",
    "        wf.setframerate(fs)\n",
    "        wf.writeframes(audio_data)\n",
    "\n",
    "    print(f\"Audio saved to {output_file}\")\n",
    "    return output_file\n",
    "\n"
   ]
  },
  {
   "cell_type": "markdown",
   "id": "7f91625b",
   "metadata": {},
   "source": [
    "# USING STT TRANSLATE API INSTEAD OF THE STANDARD STT\n",
    "\n",
    "The STT translate api is helpful in translating any language given in the input side , it automatically detects the language and then gives the transcribe in english.\n",
    "\n",
    "\n",
    "This will later be passed on to a translation api for our required output"
   ]
  },
  {
   "cell_type": "code",
   "execution_count": 5,
   "id": "5edae024",
   "metadata": {},
   "outputs": [],
   "source": [
    "def split_audio(audio_path, chunk_duration_ms):\n",
    "    audio = AudioSegment.from_file(audio_path) \n",
    "    chunks = []\n",
    "    if len(audio) > chunk_duration_ms:\n",
    "        for i in range(0, len(audio), chunk_duration_ms):\n",
    "            chunks.append(audio[i : i + chunk_duration_ms])\n",
    "    else:\n",
    "        chunks.append(audio)\n",
    "    return chunks\n",
    "    \n",
    "    \n",
    "def translate_audio(audio_file_path,chunk_duration_ms= 30* 1000):\n",
    "    \n",
    "    api_url = \"https://api.sarvam.ai/speech-to-text-translate\"\n",
    "\n",
    "    headers = {\"api-subscription-key\": api_key}  \n",
    "    \n",
    "    data = {\n",
    "        \"model\": \"saaras:v2\",  \n",
    "        \"with_diarization\": False,  \n",
    "    }\n",
    "    chunks = split_audio(audio_file_path, chunk_duration_ms)\n",
    "    responses = []\n",
    "\n",
    "    for idx, chunk in enumerate(chunks):\n",
    "        chunk_buffer = io.BytesIO()\n",
    "        chunk.export(chunk_buffer, format=\"wav\")\n",
    "        chunk_buffer.seek(0)  \n",
    "\n",
    "        files = {\"file\": (\"audiofile.wav\", chunk_buffer, \"audio/wav\")}\n",
    "\n",
    "        try:\n",
    "            response = requests.post(api_url, headers=headers, files=files, data=data)\n",
    "            if response.status_code == 200 or response.status_code == 201:\n",
    "                print(f\"Chunk {idx} POST Request Successful!\")\n",
    "                response_data = response.json()\n",
    "                transcript = response_data.get(\"transcript\", \"\")\n",
    "                responses.append({\"transcript\": transcript})\n",
    "            else:\n",
    "                print(\n",
    "                    f\"Chunk {idx} POST Request failed with status code: {response.status_code}\"\n",
    "                )\n",
    "                print(\"Response:\", response.text)\n",
    "        except Exception as e:\n",
    "            print(f\"Error processing chunk {idx}: {e}\")\n",
    "        finally:\n",
    "            chunk_buffer.close()\n",
    "\n",
    "    transcript = \" \".join([resp[\"transcript\"] for resp in responses])\n",
    "    response = {\n",
    "        \"transcript\": transcript,\n",
    "        \"language\": response_data.get(\"language_code\"),\n",
    "    }\n",
    "    return response\n",
    "    "
   ]
  },
  {
   "cell_type": "code",
   "execution_count": 6,
   "id": "dfd7f063",
   "metadata": {},
   "outputs": [
    {
     "name": "stdout",
     "output_type": "stream",
     "text": [
      "Chunk 0 POST Request Successful!\n"
     ]
    }
   ],
   "source": [
    "response=translate_audio(\"harvard.wav\")"
   ]
  },
  {
   "cell_type": "code",
   "execution_count": 7,
   "id": "c0c14abe",
   "metadata": {},
   "outputs": [],
   "source": [
    "response=response.get(\"transcript\")"
   ]
  },
  {
   "cell_type": "code",
   "execution_count": null,
   "id": "0e734459",
   "metadata": {},
   "outputs": [],
   "source": []
  },
  {
   "cell_type": "markdown",
   "id": "c4714c5d",
   "metadata": {},
   "source": [
    "# TRANSLATION MODULE"
   ]
  },
  {
   "cell_type": "code",
   "execution_count": 8,
   "id": "98521753",
   "metadata": {},
   "outputs": [],
   "source": [
    "\n",
    "def translation(response,code):\n",
    "    from sarvamai import SarvamAI\n",
    "   \n",
    "    client = SarvamAI(\n",
    "        api_subscription_key=api_key\n",
    "    )\n",
    "    \n",
    "    response = client.text.translate(\n",
    "        input=response,\n",
    "        source_language_code=\"en-IN\",\n",
    "        target_language_code=code,\n",
    "        speaker_gender=\"Male\"\n",
    "    )\n",
    "    return (response)"
   ]
  },
  {
   "cell_type": "code",
   "execution_count": 9,
   "id": "740f989e",
   "metadata": {},
   "outputs": [],
   "source": [
    "response=translation(response,\"kn-IN\")"
   ]
  },
  {
   "cell_type": "code",
   "execution_count": 10,
   "id": "e67381b6",
   "metadata": {},
   "outputs": [
    {
     "data": {
      "text/plain": [
       "'ಹಳೆಯ ಬಿಯರ್\\u200cನ ಹಳಸಿದ ವಾಸನೆ ಉಳಿದುಕೊಳ್ಳುತ್ತದೆ. ವಾಸನೆಯನ್ನು ಹೊರಹಾಕಲು ಬಿಸಿಲು ಬೇಕಾಗುತ್ತದೆ. ತಂಪಾದ ಸ್ನಾನವು ಆರೋಗ್ಯವನ್ನು ವಾಪಸ್ ತರುತ್ತದೆ. ಉಪ್ಪಿನ ಉಪ್ಪಿನಕಾಯಿ ಹಂದಿಮಾಂಸದೊಂದಿಗೆ ರುಚಿಯಾಗಿರುತ್ತದೆ. ಟ್ಯಾಕೋಸ್ ಅಲ್ ಪಾಸ್ಟರ್ ನನ್ನ ನೆಚ್ಚಿನದು. ಖಾರಭರಿತ ಆಹಾರವು ಹಾಟ್ ಕ್ರಾಸ್ ಬನ್ ಆಗಿದೆ.'"
      ]
     },
     "execution_count": 10,
     "metadata": {},
     "output_type": "execute_result"
    }
   ],
   "source": [
    "response.translated_text"
   ]
  },
  {
   "cell_type": "markdown",
   "id": "cf481661",
   "metadata": {},
   "source": [
    "# TEXT TO SPEECH MODULE"
   ]
  },
  {
   "cell_type": "code",
   "execution_count": 11,
   "id": "71f97a74",
   "metadata": {},
   "outputs": [],
   "source": [
    "\n",
    "\n",
    "def text_to_speech(transcript,code):\n",
    "    api_url = \"https://api.sarvam.ai/text-to-speech\"\n",
    "    \n",
    "    headers = {\n",
    "        \"Content-Type\": \"application/json\",\n",
    "        \"api-subscription-key\": api_key\n",
    "    }\n",
    "    if code!=\"en-IN\":\n",
    "        payload = {\n",
    "            \"inputs\": [transcript.translated_text],\n",
    "            \"target_language_code\": code,\n",
    "            \"speaker\": \"abhilash\",\n",
    "            \"model\": \"bulbul:v2\",\n",
    "            \"pitch\": 0,\n",
    "            \"pace\": 1.0,\n",
    "            \"loudness\": 1.0,\n",
    "            \"enable_preprocessing\": True,\n",
    "        }\n",
    "        \n",
    "    else:\n",
    "        payload = {\n",
    "            \"inputs\": [transcript],\n",
    "            \"target_language_code\": code,\n",
    "            \"speaker\": \"abhilash\",\n",
    "            \"model\": \"bulbul:v2\",\n",
    "            \"pitch\": 0,\n",
    "            \"pace\": 1.0,\n",
    "            \"loudness\": 1.0,\n",
    "            \"enable_preprocessing\": True,\n",
    "        }\n",
    "    \n",
    "    response = requests.post(api_url, json=payload, headers=headers)\n",
    "    if response.status_code == 200:\n",
    "        audio = response.json()[\"audios\"][0]\n",
    "        audio = base64.b64decode(audio)\n",
    "\n",
    "        output_file = \"output.wav\"\n",
    "        with wave.open(output_file, \"wb\") as wav_file:\n",
    "            wav_file.setnchannels(1)  \n",
    "            wav_file.setsampwidth(2)  \n",
    "            wav_file.setframerate(22050)  \n",
    "            wav_file.writeframes(audio)\n",
    "\n",
    "        if os.path.exists(output_file):\n",
    "            print(f\"Audio file saved successfully as {output_file}\")\n",
    "        else:\n",
    "            print(f\"Failed to save audio file.\")\n",
    "    else:\n",
    "        print(f\"Error: {response.status_code}\")\n",
    "        print(response.json())"
   ]
  },
  {
   "cell_type": "markdown",
   "id": "ec8c8cb6",
   "metadata": {},
   "source": [
    "# MODULE TO PLAY THE AUDIO BACK"
   ]
  },
  {
   "cell_type": "code",
   "execution_count": 12,
   "id": "8416c7d2",
   "metadata": {},
   "outputs": [],
   "source": [
    "import threading\n",
    "\n",
    "def play_audio(file_path):\n",
    "    import soundfile as sf\n",
    "    import sounddevice as sd\n",
    "    data, fs = sf.read(file_path, dtype='float32')\n",
    "    sd.play(data, fs)\n",
    "    sd.wait()\n"
   ]
  },
  {
   "cell_type": "code",
   "execution_count": 14,
   "id": "dd0676d1",
   "metadata": {},
   "outputs": [
    {
     "name": "stdout",
     "output_type": "stream",
     "text": [
      "Recording... Press Enter to stop.\n",
      "Recording stopped.\n",
      "Audio saved to input.wav\n",
      "Chunk 0 POST Request Successful!\n",
      "Audio file saved successfully as output.wav\n"
     ]
    }
   ],
   "source": [
    "code=\"en-IN\"\n",
    "record_audio(\"input.wav\")\n",
    "transcript = translate_audio(\"input.wav\",chunk_duration_ms= 30 * 1000)\n",
    "transcript = transcript.get(\"transcript\")\n",
    "if code==\"en-IN\":\n",
    "    pass\n",
    "else:\n",
    "    transcript=translation(transcript,code)\n",
    "text_to_speech(transcript,code)\n",
    "play_audio(\"output.wav\")"
   ]
  },
  {
   "cell_type": "code",
   "execution_count": null,
   "id": "e5e55afd",
   "metadata": {},
   "outputs": [],
   "source": []
  }
 ],
 "metadata": {
  "kernelspec": {
   "display_name": "glueviz_env",
   "language": "python",
   "name": "python3"
  },
  "language_info": {
   "codemirror_mode": {
    "name": "ipython",
    "version": 3
   },
   "file_extension": ".py",
   "mimetype": "text/x-python",
   "name": "python",
   "nbconvert_exporter": "python",
   "pygments_lexer": "ipython3",
   "version": "3.9.21"
  }
 },
 "nbformat": 4,
 "nbformat_minor": 5
}
