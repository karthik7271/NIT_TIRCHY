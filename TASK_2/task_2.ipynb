{
 "cells": [
  {
   "cell_type": "markdown",
   "id": "eaceefa8",
   "metadata": {},
   "source": [
    "# TASK ON REAL TIME TRANSLATION OF AUDIO FROM ENGLISH TO HINDI(OR ANY OTHER CHOOSEN LANGUAGE)"
   ]
  },
  {
   "cell_type": "markdown",
   "id": "df25c4c8",
   "metadata": {},
   "source": [
    "# CAUTION!!!\n",
    "\n",
    "### INORDER TO USE THE LIBRARY PYUDUB , we require python versions below 3.13"
   ]
  },
  {
   "cell_type": "code",
   "execution_count": null,
   "id": "ea783469",
   "metadata": {},
   "outputs": [
    {
     "name": "stdout",
     "output_type": "stream",
     "text": [
      "Defaulting to user installation because normal site-packages is not writeable\n",
      "Requirement already satisfied: sounddevice in /Users/karthikragulan/Library/Python/3.9/lib/python/site-packages (0.5.1)\n",
      "Requirement already satisfied: scipy in /Users/karthikragulan/Library/Python/3.9/lib/python/site-packages (1.13.1)\n",
      "Requirement already satisfied: numpy in /Users/karthikragulan/Library/Python/3.9/lib/python/site-packages (1.24.3)\n",
      "Requirement already satisfied: CFFI>=1.0 in /Users/karthikragulan/Library/Python/3.9/lib/python/site-packages (from sounddevice) (1.17.1)\n",
      "Requirement already satisfied: pycparser in /Users/karthikragulan/Library/Python/3.9/lib/python/site-packages (from CFFI>=1.0->sounddevice) (2.22)\n",
      "\n",
      "\u001b[1m[\u001b[0m\u001b[34;49mnotice\u001b[0m\u001b[1;39;49m]\u001b[0m\u001b[39;49m A new release of pip is available: \u001b[0m\u001b[31;49m24.3.1\u001b[0m\u001b[39;49m -> \u001b[0m\u001b[32;49m25.1\u001b[0m\n",
      "\u001b[1m[\u001b[0m\u001b[34;49mnotice\u001b[0m\u001b[1;39;49m]\u001b[0m\u001b[39;49m To update, run: \u001b[0m\u001b[32;49m/Library/Developer/CommandLineTools/usr/bin/python3 -m pip install --upgrade pip\u001b[0m\n",
      "Note: you may need to restart the kernel to use updated packages.\n",
      "Defaulting to user installation because normal site-packages is not writeable\n",
      "Requirement already satisfied: requests in /Users/karthikragulan/Library/Python/3.9/lib/python/site-packages (2.32.3)\n",
      "Requirement already satisfied: pandas in /Users/karthikragulan/Library/Python/3.9/lib/python/site-packages (2.2.3)\n",
      "Requirement already satisfied: pydub in /Users/karthikragulan/Library/Python/3.9/lib/python/site-packages (0.25.1)\n",
      "Requirement already satisfied: pyaudio in /Users/karthikragulan/Library/Python/3.9/lib/python/site-packages (0.2.14)\n",
      "Requirement already satisfied: charset-normalizer<4,>=2 in /Users/karthikragulan/Library/Python/3.9/lib/python/site-packages (from requests) (3.4.2)\n",
      "Requirement already satisfied: idna<4,>=2.5 in /Users/karthikragulan/Library/Python/3.9/lib/python/site-packages (from requests) (3.10)\n",
      "Requirement already satisfied: urllib3<3,>=1.21.1 in /Users/karthikragulan/Library/Python/3.9/lib/python/site-packages (from requests) (2.4.0)\n",
      "Requirement already satisfied: certifi>=2017.4.17 in /Users/karthikragulan/Library/Python/3.9/lib/python/site-packages (from requests) (2025.4.26)\n",
      "Requirement already satisfied: numpy>=1.22.4 in /Users/karthikragulan/Library/Python/3.9/lib/python/site-packages (from pandas) (1.24.3)\n",
      "Requirement already satisfied: python-dateutil>=2.8.2 in /Users/karthikragulan/Library/Python/3.9/lib/python/site-packages (from pandas) (2.9.0.post0)\n",
      "Requirement already satisfied: pytz>=2020.1 in /Users/karthikragulan/Library/Python/3.9/lib/python/site-packages (from pandas) (2024.2)\n",
      "Requirement already satisfied: tzdata>=2022.7 in /Users/karthikragulan/Library/Python/3.9/lib/python/site-packages (from pandas) (2024.2)\n",
      "Requirement already satisfied: six>=1.5 in /Library/Developer/CommandLineTools/Library/Frameworks/Python3.framework/Versions/3.9/lib/python3.9/site-packages (from python-dateutil>=2.8.2->pandas) (1.15.0)\n",
      "\n",
      "\u001b[1m[\u001b[0m\u001b[34;49mnotice\u001b[0m\u001b[1;39;49m]\u001b[0m\u001b[39;49m A new release of pip is available: \u001b[0m\u001b[31;49m24.3.1\u001b[0m\u001b[39;49m -> \u001b[0m\u001b[32;49m25.1\u001b[0m\n",
      "\u001b[1m[\u001b[0m\u001b[34;49mnotice\u001b[0m\u001b[1;39;49m]\u001b[0m\u001b[39;49m To update, run: \u001b[0m\u001b[32;49m/Library/Developer/CommandLineTools/usr/bin/python3 -m pip install --upgrade pip\u001b[0m\n",
      "Note: you may need to restart the kernel to use updated packages.\n",
      "Defaulting to user installation because normal site-packages is not writeable\n",
      "Requirement already satisfied: pydub in /Users/karthikragulan/Library/Python/3.9/lib/python/site-packages (0.25.1)\n",
      "Requirement already satisfied: sounddevice in /Users/karthikragulan/Library/Python/3.9/lib/python/site-packages (0.5.1)\n",
      "Requirement already satisfied: requests in /Users/karthikragulan/Library/Python/3.9/lib/python/site-packages (2.32.3)\n",
      "Requirement already satisfied: scipy in /Users/karthikragulan/Library/Python/3.9/lib/python/site-packages (1.13.1)\n",
      "Requirement already satisfied: CFFI>=1.0 in /Users/karthikragulan/Library/Python/3.9/lib/python/site-packages (from sounddevice) (1.17.1)\n",
      "Requirement already satisfied: charset-normalizer<4,>=2 in /Users/karthikragulan/Library/Python/3.9/lib/python/site-packages (from requests) (3.4.2)\n",
      "Requirement already satisfied: idna<4,>=2.5 in /Users/karthikragulan/Library/Python/3.9/lib/python/site-packages (from requests) (3.10)\n",
      "Requirement already satisfied: urllib3<3,>=1.21.1 in /Users/karthikragulan/Library/Python/3.9/lib/python/site-packages (from requests) (2.4.0)\n",
      "Requirement already satisfied: certifi>=2017.4.17 in /Users/karthikragulan/Library/Python/3.9/lib/python/site-packages (from requests) (2025.4.26)\n",
      "Requirement already satisfied: numpy<2.3,>=1.22.4 in /Users/karthikragulan/Library/Python/3.9/lib/python/site-packages (from scipy) (1.24.3)\n",
      "Requirement already satisfied: pycparser in /Users/karthikragulan/Library/Python/3.9/lib/python/site-packages (from CFFI>=1.0->sounddevice) (2.22)\n",
      "\n",
      "\u001b[1m[\u001b[0m\u001b[34;49mnotice\u001b[0m\u001b[1;39;49m]\u001b[0m\u001b[39;49m A new release of pip is available: \u001b[0m\u001b[31;49m24.3.1\u001b[0m\u001b[39;49m -> \u001b[0m\u001b[32;49m25.1\u001b[0m\n",
      "\u001b[1m[\u001b[0m\u001b[34;49mnotice\u001b[0m\u001b[1;39;49m]\u001b[0m\u001b[39;49m To update, run: \u001b[0m\u001b[32;49m/Library/Developer/CommandLineTools/usr/bin/python3 -m pip install --upgrade pip\u001b[0m\n",
      "Note: you may need to restart the kernel to use updated packages.\n",
      "Defaulting to user installation because normal site-packages is not writeable\n",
      "Requirement already satisfied: simpleaudio in /Users/karthikragulan/Library/Python/3.9/lib/python/site-packages (1.0.4)\n",
      "\n",
      "\u001b[1m[\u001b[0m\u001b[34;49mnotice\u001b[0m\u001b[1;39;49m]\u001b[0m\u001b[39;49m A new release of pip is available: \u001b[0m\u001b[31;49m24.3.1\u001b[0m\u001b[39;49m -> \u001b[0m\u001b[32;49m25.1\u001b[0m\n",
      "\u001b[1m[\u001b[0m\u001b[34;49mnotice\u001b[0m\u001b[1;39;49m]\u001b[0m\u001b[39;49m To update, run: \u001b[0m\u001b[32;49m/Library/Developer/CommandLineTools/usr/bin/python3 -m pip install --upgrade pip\u001b[0m\n",
      "Note: you may need to restart the kernel to use updated packages.\n",
      "Defaulting to user installation because normal site-packages is not writeable\n",
      "Requirement already satisfied: dotenv in /Users/karthikragulan/Library/Python/3.9/lib/python/site-packages (0.9.9)\n",
      "Collecting soundfile\n",
      "  Using cached soundfile-0.13.1-py2.py3-none-macosx_11_0_arm64.whl.metadata (16 kB)\n",
      "Requirement already satisfied: python-dotenv in /Users/karthikragulan/Library/Python/3.9/lib/python/site-packages (from dotenv) (1.1.0)\n",
      "Requirement already satisfied: cffi>=1.0 in /Users/karthikragulan/Library/Python/3.9/lib/python/site-packages (from soundfile) (1.17.1)\n",
      "Requirement already satisfied: numpy in /Users/karthikragulan/Library/Python/3.9/lib/python/site-packages (from soundfile) (1.24.3)\n",
      "Requirement already satisfied: pycparser in /Users/karthikragulan/Library/Python/3.9/lib/python/site-packages (from cffi>=1.0->soundfile) (2.22)\n",
      "Using cached soundfile-0.13.1-py2.py3-none-macosx_11_0_arm64.whl (1.1 MB)\n",
      "Installing collected packages: soundfile\n",
      "Successfully installed soundfile-0.13.1\n",
      "\n",
      "\u001b[1m[\u001b[0m\u001b[34;49mnotice\u001b[0m\u001b[1;39;49m]\u001b[0m\u001b[39;49m A new release of pip is available: \u001b[0m\u001b[31;49m24.3.1\u001b[0m\u001b[39;49m -> \u001b[0m\u001b[32;49m25.1\u001b[0m\n",
      "\u001b[1m[\u001b[0m\u001b[34;49mnotice\u001b[0m\u001b[1;39;49m]\u001b[0m\u001b[39;49m To update, run: \u001b[0m\u001b[32;49m/Library/Developer/CommandLineTools/usr/bin/python3 -m pip install --upgrade pip\u001b[0m\n",
      "Note: you may need to restart the kernel to use updated packages.\n"
     ]
    }
   ],
   "source": [
    "%pip install sounddevice scipy numpy\n",
    "%pip install requests pandas pydub pyaudio \n",
    "%pip install simpleaudio\n",
    "%pip install dotenv soundfile\n",
    "%pip install playsound"
   ]
  },
  {
   "cell_type": "code",
   "execution_count": 28,
   "id": "f6764aab",
   "metadata": {},
   "outputs": [],
   "source": [
    "import wave\n",
    "import base64\n",
    "import requests\n",
    "import sounddevice as sd\n",
    "import numpy as np\n",
    "import time\n",
    "import os\n",
    "from pydub import AudioSegment"
   ]
  },
  {
   "cell_type": "code",
   "execution_count": 29,
   "id": "ab02026c",
   "metadata": {},
   "outputs": [],
   "source": [
    "from dotenv import load_dotenv\n",
    "import os\n",
    "load_dotenv()\n",
    "api_key = os.getenv(\"API_KEY\")"
   ]
  },
  {
   "cell_type": "markdown",
   "id": "e5410fc4",
   "metadata": {},
   "source": [
    "# RECORD THE AUDIO MODULE"
   ]
  },
  {
   "cell_type": "code",
   "execution_count": null,
   "id": "37b77f41",
   "metadata": {},
   "outputs": [],
   "source": [
    "import sounddevice as sd\n",
    "import soundfile as sf\n",
    "import threading\n",
    "\n",
    "def record_audio(output_file='input_audio.wav', fs=44100):\n",
    "    \"\"\"Continuously record audio until user presses Enter, then save to a WAV file.\"\"\"\n",
    "    print(\"Recording... Press Enter to stop.\")\n",
    "\n",
    "    recording = []\n",
    "    stop_recording = threading.Event()\n",
    "\n",
    "    def wait_for_input():\n",
    "        input()\n",
    "        stop_recording.set()\n",
    "\n",
    "    threading.Thread(target=wait_for_input).start()\n",
    "\n",
    "    with sd.InputStream(samplerate=fs, channels=1, dtype='int16') as stream:\n",
    "        while not stop_recording.is_set():\n",
    "            audio_chunk, _ = stream.read(1024)\n",
    "            recording.append(audio_chunk)\n",
    "\n",
    "    print(\"Recording stopped.\")\n",
    "\n",
    "    audio_data = np.concatenate(recording, axis=0)\n",
    "    with wave.open(output_file, 'wb') as wf:\n",
    "        wf.setnchannels(1)\n",
    "        wf.setsampwidth(2)\n",
    "        wf.setframerate(fs)\n",
    "        wf.writeframes(audio_data)\n",
    "\n",
    "    print(f\"Audio saved to {output_file}\")\n",
    "    return output_file\n",
    "\n"
   ]
  },
  {
   "cell_type": "markdown",
   "id": "d988efe9",
   "metadata": {},
   "source": [
    "# SPEECH TO TEXT TRANSLATION MODULE"
   ]
  },
  {
   "cell_type": "code",
   "execution_count": 51,
   "id": "e0566480",
   "metadata": {},
   "outputs": [],
   "source": [
    "def speech_to_text(file_path,code):\n",
    "    \n",
    "    api_url = \"https://api.sarvam.ai/speech-to-text\"\n",
    "    \n",
    "    headers = {\n",
    "        \"api-subscription-key\": api_key\n",
    "        }\n",
    "    \n",
    "    data = {\n",
    "        \"language_code\": code,  \n",
    "        \"model\": \"saarika:v2\",     \n",
    "        \"with_timestamps\": False   \n",
    "    }\n",
    "\n",
    "    with open(file_path, 'rb') as audio_file:\n",
    "        files = {'file': ('audio.wav', audio_file, 'audio/wav')}\n",
    "        response = requests.post(api_url, headers=headers, files=files, data=data)\n",
    "\n",
    "    if response.status_code == 200 or response.status_code == 201:\n",
    "        response_data = response.json()\n",
    "        transcript = response_data.get(\"transcript\")\n",
    "        return transcript\n",
    "    else:\n",
    "        print(f\"ERROR: {response.status_code}\")\n",
    "        print(\"Response:\", response.text)\n",
    "        return None\n"
   ]
  },
  {
   "cell_type": "markdown",
   "id": "c07e0fec",
   "metadata": {},
   "source": [
    "# TEXT TO SPEECH MODULE"
   ]
  },
  {
   "cell_type": "code",
   "execution_count": 52,
   "id": "7ca514d8",
   "metadata": {},
   "outputs": [],
   "source": [
    "def text_to_speech(transcript,code):\n",
    "    api_url = \"https://api.sarvam.ai/text-to-speech\"\n",
    "    \n",
    "    headers = {\n",
    "        \"Content-Type\": \"application/json\",\n",
    "        \"api-subscription-key\": api_key\n",
    "    }\n",
    "    \n",
    "    payload = {\n",
    "        \"inputs\": [transcript],\n",
    "        \"target_language_code\": code,\n",
    "        \"speaker\": \"abhilash\",\n",
    "        \"model\": \"bulbul:v2\",\n",
    "        \"pitch\": 0,\n",
    "        \"pace\": 1.0,\n",
    "        \"loudness\": 1.0,\n",
    "        \"enable_preprocessing\": True,\n",
    "    }\n",
    "    \n",
    "    response = requests.post(api_url, json=payload, headers=headers)\n",
    "    if response.status_code == 200:\n",
    "        audio = response.json()[\"audios\"][0]\n",
    "        audio = base64.b64decode(audio)\n",
    "\n",
    "        output_file = \"output.wav\"\n",
    "        with wave.open(output_file, \"wb\") as wav_file:\n",
    "            wav_file.setnchannels(1)  \n",
    "            wav_file.setsampwidth(2)  \n",
    "            wav_file.setframerate(22050)  \n",
    "            wav_file.writeframes(audio)\n",
    "\n",
    "        if os.path.exists(output_file):\n",
    "            print(f\"Audio file saved successfully as {output_file}\")\n",
    "        else:\n",
    "            print(f\"Failed to save audio file.\")\n",
    "    else:\n",
    "        print(f\"Error: {response.status_code}\")\n",
    "        print(response.json())"
   ]
  },
  {
   "cell_type": "markdown",
   "id": "c1c63b86",
   "metadata": {},
   "source": [
    "# MODULE TO PLAY THE AUDIO BACK"
   ]
  },
  {
   "cell_type": "code",
   "execution_count": 53,
   "id": "851f14bd",
   "metadata": {},
   "outputs": [],
   "source": [
    "import threading\n",
    "\n",
    "def play_audio(file_path):\n",
    "    import soundfile as sf\n",
    "    import sounddevice as sd\n",
    "    data, fs = sf.read(file_path, dtype='float32')\n",
    "    sd.play(data, fs)\n",
    "    sd.wait()\n"
   ]
  },
  {
   "cell_type": "markdown",
   "id": "475a2da6",
   "metadata": {},
   "source": [
    "### TO USE THE PIPELINE RUN THE CELL AND RECORD THE AUDIO, TO STOP THE RECORDING CLICK ON ENTER AGAIN. THE TRANSLATED AUDIO WILL START TO PLAY"
   ]
  },
  {
   "cell_type": "code",
   "execution_count": 57,
   "id": "d0f86f21",
   "metadata": {},
   "outputs": [
    {
     "name": "stdout",
     "output_type": "stream",
     "text": [
      "Recording... Press Enter to stop.\n",
      "Recording stopped.\n",
      "Audio saved to input.wav\n",
      "Transcript: अगर वह एक लज़ी बोन होता है, तो मैं उसके भविष्य के अरुरूप से डरहूँगा हूँ और वह मेरी अनुरोधकों को समझ नहीं समझता। मैं उसके भविष्य के बारे में सूरज हूँ।\n",
      "Audio file saved successfully as output.wav\n"
     ]
    }
   ],
   "source": [
    "code=\"hi-IN\"\n",
    "\n",
    "\n",
    "record_audio(\"input.wav\")\n",
    "transcript = speech_to_text(\"input.wav\",code)\n",
    "print(f\"Transcript: {transcript}\")\n",
    "text_to_speech(transcript,code)\n",
    "play_audio(\"output.wav\")\n"
   ]
  },
  {
   "cell_type": "code",
   "execution_count": null,
   "id": "2776b61e",
   "metadata": {},
   "outputs": [],
   "source": []
  },
  {
   "cell_type": "code",
   "execution_count": null,
   "id": "b8936741",
   "metadata": {},
   "outputs": [],
   "source": []
  }
 ],
 "metadata": {
  "kernelspec": {
   "display_name": "Python 3",
   "language": "python",
   "name": "python3"
  },
  "language_info": {
   "codemirror_mode": {
    "name": "ipython",
    "version": 3
   },
   "file_extension": ".py",
   "mimetype": "text/x-python",
   "name": "python",
   "nbconvert_exporter": "python",
   "pygments_lexer": "ipython3",
   "version": "3.9.6"
  }
 },
 "nbformat": 4,
 "nbformat_minor": 5
}
